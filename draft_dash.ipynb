{
 "cells": [
  {
   "cell_type": "markdown",
   "id": "e638d667",
   "metadata": {},
   "source": [
    "### Setup\n",
    "\n",
    "- pip install dash pandas lxml nb_black dash-bootstrap-components\n",
    "- download card_list.csv from 17Lands https://17lands-public.s3.amazonaws.com/analysis_data/cards/card_list.csv\n",
    "- save each set as a different page under one dir. Filename should be `data/{set}_card_ratings.html` \n",
    "- start this jupyter notebook (making sure the card_list and set data are in `data/`)\n",
    "- update the path to your log file (can be found in 17Lands client)\n",
    "- go to `localhost:8050/` to see the app!"
   ]
  },
  {
   "cell_type": "code",
   "execution_count": 1,
   "id": "3b6c7324",
   "metadata": {},
   "outputs": [
    {
     "data": {
      "application/javascript": [
       "\n",
       "            setTimeout(function() {\n",
       "                var nbb_cell_id = 1;\n",
       "                var nbb_unformatted_code = \"# ! pip install nb_black\\n# ! pip install dash-bootstrap-components\\n%load_ext nb_black\";\n",
       "                var nbb_formatted_code = \"# ! pip install nb_black\\n# ! pip install dash-bootstrap-components\\n%load_ext nb_black\";\n",
       "                var nbb_cells = Jupyter.notebook.get_cells();\n",
       "                for (var i = 0; i < nbb_cells.length; ++i) {\n",
       "                    if (nbb_cells[i].input_prompt_number == nbb_cell_id) {\n",
       "                        if (nbb_cells[i].get_text() == nbb_unformatted_code) {\n",
       "                             nbb_cells[i].set_text(nbb_formatted_code);\n",
       "                        }\n",
       "                        break;\n",
       "                    }\n",
       "                }\n",
       "            }, 500);\n",
       "            "
      ],
      "text/plain": [
       "<IPython.core.display.Javascript object>"
      ]
     },
     "metadata": {},
     "output_type": "display_data"
    }
   ],
   "source": [
    "%load_ext nb_black"
   ]
  },
  {
   "cell_type": "code",
   "execution_count": 7,
   "id": "05f32644",
   "metadata": {},
   "outputs": [
    {
     "data": {
      "application/javascript": [
       "\n",
       "            setTimeout(function() {\n",
       "                var nbb_cell_id = 7;\n",
       "                var nbb_unformatted_code = \"import requests\\nimport os\\nimport json\\nimport logging\\nfrom typing import List, Sequence, Union, Optional, Dict, Any, Tuple\\nimport datetime\\nimport time\\nfrom pathlib import Path\\n\\nimport plotly\\nimport dash\\nfrom dash import dcc\\nfrom dash import html\\nimport dash_bootstrap_components as dbc\\nfrom dash.dependencies import Input, Output\\nfrom dash import dash_table\\nimport pandas as pd\\nimport plotly.express as px\\nimport plotly.graph_objects as go\\nfrom flask import Flask\\n\\nfrom mtga_follower import (\\n    Follower,\\n    API_ENDPOINT,\\n    get_config,\\n    JSON_START_REGEX,\\n    extract_time,\\n    json_value_matches,\\n    get_rank_string,\\n    logger,\\n)\";\n",
       "                var nbb_formatted_code = \"import requests\\nimport os\\nimport json\\nimport logging\\nfrom typing import List, Sequence, Union, Optional, Dict, Any, Tuple\\nimport datetime\\nimport time\\nfrom pathlib import Path\\n\\nimport plotly\\nimport dash\\nfrom dash import dcc\\nfrom dash import html\\nimport dash_bootstrap_components as dbc\\nfrom dash.dependencies import Input, Output\\nfrom dash import dash_table\\nimport pandas as pd\\nimport plotly.express as px\\nimport plotly.graph_objects as go\\nfrom flask import Flask\\n\\nfrom mtga_follower import (\\n    Follower,\\n    API_ENDPOINT,\\n    get_config,\\n    JSON_START_REGEX,\\n    extract_time,\\n    json_value_matches,\\n    get_rank_string,\\n    logger,\\n)\";\n",
       "                var nbb_cells = Jupyter.notebook.get_cells();\n",
       "                for (var i = 0; i < nbb_cells.length; ++i) {\n",
       "                    if (nbb_cells[i].input_prompt_number == nbb_cell_id) {\n",
       "                        if (nbb_cells[i].get_text() == nbb_unformatted_code) {\n",
       "                             nbb_cells[i].set_text(nbb_formatted_code);\n",
       "                        }\n",
       "                        break;\n",
       "                    }\n",
       "                }\n",
       "            }, 500);\n",
       "            "
      ],
      "text/plain": [
       "<IPython.core.display.Javascript object>"
      ]
     },
     "metadata": {},
     "output_type": "display_data"
    }
   ],
   "source": [
    "import requests\n",
    "import os\n",
    "import json\n",
    "import logging\n",
    "from typing import List, Sequence, Union, Optional, Dict, Any, Tuple\n",
    "import datetime\n",
    "import time\n",
    "from pathlib import Path\n",
    "\n",
    "import plotly\n",
    "import dash\n",
    "from dash import dcc\n",
    "from dash import html\n",
    "import dash_bootstrap_components as dbc\n",
    "from dash.dependencies import Input, Output\n",
    "from dash import dash_table\n",
    "import pandas as pd\n",
    "import plotly.express as px\n",
    "import plotly.graph_objects as go\n",
    "from flask import Flask\n",
    "\n",
    "from mtga_follower import (\n",
    "    Follower,\n",
    "    API_ENDPOINT,\n",
    "    get_config,\n",
    "    JSON_START_REGEX,\n",
    "    extract_time,\n",
    "    json_value_matches,\n",
    "    get_rank_string,\n",
    "    logger,\n",
    ")"
   ]
  },
  {
   "cell_type": "code",
   "execution_count": 6,
   "id": "e1414f1a",
   "metadata": {},
   "outputs": [
    {
     "data": {
      "application/javascript": [
       "\n",
       "            setTimeout(function() {\n",
       "                var nbb_cell_id = 6;\n",
       "                var nbb_unformatted_code = \"class DashFollower(Follower):\\n    def __init__(self, *args, **kwargs):\\n        super().__init__(*args, **kwargs)\\n        self.pack_number = \\\"\\\"\\n        self.pick_number = \\\"\\\"\\n    \\n    def picked_card(self, json_obj: Dict[str, Any], mode: str):\\n        if not hasattr(self, \\\"pool_card_ids\\\"):\\n            self.pool_card_ids = []\\n        # fail if not in (bot, combined) since I'm unfamiliar with \\n        # if there's another option\\n        if mode == \\\"bot\\\":\\n            card_id = int(json_obj[\\\"CardId\\\"])\\n        if mode == 'combined':\\n            card_id = int(json_obj['PickGrpId'])\\n        self.pool_card_ids.append(card_id)\\n    \\n    def got_pack(self, json_obj: Dict[str, Any], mode: str):\\n        if mode == \\\"bot\\\":\\n            picks = [int(x) for x in json_obj[\\\"DraftPack\\\"]]\\n            pack_num_key = \\\"PackNumber\\\"\\n            pick_num_key = \\\"PickNumber\\\"\\n        elif mode == \\\"human\\\":\\n            picks = [int(x) for x in json_obj['PackCards'].split(',')]\\n            pack_num_key = \\\"SelfPack\\\"\\n            pick_num_key = \\\"SelfPick\\\"\\n        elif mode == \\\"combined\\\":\\n            picks = json_obj['CardsInPack']\\n            pack_num_key = \\\"PackNumber\\\"\\n            pick_num_key = \\\"PickNumber\\\"\\n        self.pick_options = picks\\n        self.pack_number = json_obj[pack_num_key]\\n        self.pick_number = json_obj[pick_num_key]\\n\\n    def _Follower__retry_post(self, *args, **kwargs):\\n        \\\"\\\"\\\"\\n        We don't want to mess anything up, so don't talk to the API at all\\n        \\\"\\\"\\\"\\n        r = requests.Response()\\n        r.status_code = 200\\n        return r\\n\\n    def _Follower__handle_bot_draft_pack(self, json_obj: Dict[str, Any]):\\n#         super()._Follower__handle_bot_draft_pack(json_obj)\\n        self.got_pack(json_obj, \\\"bot\\\")\\n\\n    def _Follower__handle_bot_draft_pick(self, json_obj: Dict[str, Any]):\\n#         super()._Follower__handle_bot_draft_pick(json_obj)\\n        self.picked_card(json_obj, \\\"bot\\\")\\n\\n    def _Follower__handle_human_draft_pack(self, json_obj: Dict[str, Any]):\\n        self.got_pack(json_obj, \\\"human\\\")\\n    \\n    def _Follower_handle_human_draft_combined(self, json_obj: Dict[str, Any]):\\n        self.got_pack(json_obj, \\\"combined\\\")\\n\\n    def _Follower__handle_joined_pod(self, json_obj: Dict[Any, str]):\\n        self.pick_options = []\\n        self.pool_card_ids = []\\n\\n    def _Follower__handle_blob(self, full_log):\\n        \\\"\\\"\\\"Attempt to parse a complete log message and send the data if relevant.\\\"\\\"\\\"\\n        match = JSON_START_REGEX.search(full_log)\\n        if not match:\\n            return\\n        try:\\n            json_obj, end = self.json_decoder.raw_decode(full_log, match.start())\\n        except json.JSONDecodeError as e:\\n            logger.debug(\\n                f\\\"Ran into error {e} when parsing at {self.cur_log_time}. Data was: {full_log}\\\"\\n            )\\n            return\\n\\n        json_obj = self._Follower__extract_payload(json_obj)\\n        #         print(json_obj)\\n        if type(json_obj) != dict:\\n            return\\n\\n        try:\\n            maybe_time = self._Follower__maybe_get_utc_timestamp(json_obj)\\n            if maybe_time is not None:\\n                self.last_utc_time = maybe_time\\n        except:\\n            pass\\n\\n        if json_value_matches(\\n            \\\"Client.Connected\\\", [\\\"params\\\", \\\"messageName\\\"], json_obj\\n        ):  # Doesn't exist any more\\n            self._Follower__handle_login(json_obj)\\n        elif \\\"Event_Join\\\" in full_log and \\\"EventName\\\" in json_obj:\\n            self._Follower__handle_joined_pod(json_obj)\\n        elif \\\"DraftStatus\\\" in json_obj:\\n            #             print(\\\"draft status\\\")\\n            self._Follower__handle_bot_draft_pack(json_obj)\\n        elif \\\"BotDraft_DraftPick\\\" in full_log and \\\"PickInfo\\\" in json_obj:\\n            #             print(\\\"draft pick\\\")\\n            self._Follower__handle_bot_draft_pick(json_obj[\\\"PickInfo\\\"])\\n        elif \\\"LogBusinessEvents\\\" in full_log and \\\"PickGrpId\\\" in json_obj:\\n            self._Follower__handle_human_draft_combined(json_obj)\\n        elif \\\"Draft.Notify \\\" in full_log and \\\"method\\\" not in json_obj:\\n            self._Follower__handle_human_draft_pack(json_obj)\\n        elif \\\"authenticateResponse\\\" in json_obj:\\n            self._Follower__update_screen_name(\\n                json_obj[\\\"authenticateResponse\\\"][\\\"screenName\\\"]\\n            )\\n\\ndef read_data(\\n    data_path: str,\\n    supported_expansions: List[str] = [\\\"ZNR\\\", \\\"KHM\\\", \\\"STX\\\", \\\"AFR\\\", \\\"MID\\\", \\\"VOW\\\"],\\n) -> pd.DataFrame:\\n    \\\"\\\"\\\"\\n    Load up the html version of the 17Lands card ratings and stack them. Also\\n    load the card_id mapping and join it\\n    \\\"\\\"\\\"\\n    card_ids_df = pd.read_csv(\\n        os.path.join(data_path, \\\"card_list.csv\\\"),\\n        usecols=[\\n            \\\"id\\\",\\n            \\\"expansion\\\",\\n            \\\"name\\\",\\n            \\\"rarity\\\",\\n            \\\"color_identity\\\",\\n            \\\"mana_value\\\",\\n            \\\"types\\\",\\n        ],\\n    )\\n    card_ids_df = card_ids_df[card_ids_df.expansion.isin(supported_expansions)]\\n    card_ids_df = card_ids_df[[\\\"id\\\", \\\"expansion\\\", \\\"name\\\", \\\"types\\\"]]\\n\\n    ratings_df = None\\n    for set_name in supported_expansions:\\n        single_df = pd.read_html(\\n            os.path.join(data_path, f\\\"{set_name.lower()}_card_ratings.html\\\")\\n        )[0]\\n        single_df[\\\"expansion\\\"] = set_name.upper()\\n        if ratings_df is None:\\n            ratings_df = single_df\\n        else:\\n            ratings_df = ratings_df.append(single_df)\\n    ratings_df = ratings_df.rename(columns={k: k.lower() for k in ratings_df.columns})\\n\\n    joined = pd.merge(\\n        ratings_df,\\n        card_ids_df,\\n        how=\\\"left\\\",\\n        left_on=[\\\"name\\\", \\\"expansion\\\"],\\n        right_on=[\\\"name\\\", \\\"expansion\\\"],\\n        suffixes=[\\\"\\\", \\\"_y\\\"],\\n    )\\n    joined[\\\"iwd\\\"] = joined[\\\"iwd\\\"].apply(lambda x: float(str(x).replace(\\\"pp\\\", \\\"\\\")))\\n    return joined.set_index(\\\"id\\\")\";\n",
       "                var nbb_formatted_code = \"class DashFollower(Follower):\\n    def __init__(self, *args, **kwargs):\\n        super().__init__(*args, **kwargs)\\n        self.pack_number = \\\"\\\"\\n        self.pick_number = \\\"\\\"\\n\\n    def picked_card(self, json_obj: Dict[str, Any], mode: str):\\n        if not hasattr(self, \\\"pool_card_ids\\\"):\\n            self.pool_card_ids = []\\n        # fail if not in (bot, combined) since I'm unfamiliar with\\n        # if there's another option\\n        if mode == \\\"bot\\\":\\n            card_id = int(json_obj[\\\"CardId\\\"])\\n        if mode == \\\"combined\\\":\\n            card_id = int(json_obj[\\\"PickGrpId\\\"])\\n        self.pool_card_ids.append(card_id)\\n\\n    def got_pack(self, json_obj: Dict[str, Any], mode: str):\\n        if mode == \\\"bot\\\":\\n            picks = [int(x) for x in json_obj[\\\"DraftPack\\\"]]\\n            pack_num_key = \\\"PackNumber\\\"\\n            pick_num_key = \\\"PickNumber\\\"\\n        elif mode == \\\"human\\\":\\n            picks = [int(x) for x in json_obj[\\\"PackCards\\\"].split(\\\",\\\")]\\n            pack_num_key = \\\"SelfPack\\\"\\n            pick_num_key = \\\"SelfPick\\\"\\n        elif mode == \\\"combined\\\":\\n            picks = json_obj[\\\"CardsInPack\\\"]\\n            pack_num_key = \\\"PackNumber\\\"\\n            pick_num_key = \\\"PickNumber\\\"\\n        self.pick_options = picks\\n        self.pack_number = json_obj[pack_num_key]\\n        self.pick_number = json_obj[pick_num_key]\\n\\n    def _Follower__retry_post(self, *args, **kwargs):\\n        \\\"\\\"\\\"\\n        We don't want to mess anything up, so don't talk to the API at all\\n        \\\"\\\"\\\"\\n        r = requests.Response()\\n        r.status_code = 200\\n        return r\\n\\n    def _Follower__handle_bot_draft_pack(self, json_obj: Dict[str, Any]):\\n        #         super()._Follower__handle_bot_draft_pack(json_obj)\\n        self.got_pack(json_obj, \\\"bot\\\")\\n\\n    def _Follower__handle_bot_draft_pick(self, json_obj: Dict[str, Any]):\\n        #         super()._Follower__handle_bot_draft_pick(json_obj)\\n        self.picked_card(json_obj, \\\"bot\\\")\\n\\n    def _Follower__handle_human_draft_pack(self, json_obj: Dict[str, Any]):\\n        self.got_pack(json_obj, \\\"human\\\")\\n\\n    def _Follower_handle_human_draft_combined(self, json_obj: Dict[str, Any]):\\n        self.got_pack(json_obj, \\\"combined\\\")\\n\\n    def _Follower__handle_joined_pod(self, json_obj: Dict[Any, str]):\\n        self.pick_options = []\\n        self.pool_card_ids = []\\n\\n    def _Follower__handle_blob(self, full_log):\\n        \\\"\\\"\\\"Attempt to parse a complete log message and send the data if relevant.\\\"\\\"\\\"\\n        match = JSON_START_REGEX.search(full_log)\\n        if not match:\\n            return\\n        try:\\n            json_obj, end = self.json_decoder.raw_decode(full_log, match.start())\\n        except json.JSONDecodeError as e:\\n            logger.debug(\\n                f\\\"Ran into error {e} when parsing at {self.cur_log_time}. Data was: {full_log}\\\"\\n            )\\n            return\\n\\n        json_obj = self._Follower__extract_payload(json_obj)\\n        #         print(json_obj)\\n        if type(json_obj) != dict:\\n            return\\n\\n        try:\\n            maybe_time = self._Follower__maybe_get_utc_timestamp(json_obj)\\n            if maybe_time is not None:\\n                self.last_utc_time = maybe_time\\n        except:\\n            pass\\n\\n        if json_value_matches(\\n            \\\"Client.Connected\\\", [\\\"params\\\", \\\"messageName\\\"], json_obj\\n        ):  # Doesn't exist any more\\n            self._Follower__handle_login(json_obj)\\n        elif \\\"Event_Join\\\" in full_log and \\\"EventName\\\" in json_obj:\\n            self._Follower__handle_joined_pod(json_obj)\\n        elif \\\"DraftStatus\\\" in json_obj:\\n            #             print(\\\"draft status\\\")\\n            self._Follower__handle_bot_draft_pack(json_obj)\\n        elif \\\"BotDraft_DraftPick\\\" in full_log and \\\"PickInfo\\\" in json_obj:\\n            #             print(\\\"draft pick\\\")\\n            self._Follower__handle_bot_draft_pick(json_obj[\\\"PickInfo\\\"])\\n        elif \\\"LogBusinessEvents\\\" in full_log and \\\"PickGrpId\\\" in json_obj:\\n            self._Follower__handle_human_draft_combined(json_obj)\\n        elif \\\"Draft.Notify \\\" in full_log and \\\"method\\\" not in json_obj:\\n            self._Follower__handle_human_draft_pack(json_obj)\\n        elif \\\"authenticateResponse\\\" in json_obj:\\n            self._Follower__update_screen_name(\\n                json_obj[\\\"authenticateResponse\\\"][\\\"screenName\\\"]\\n            )\\n\\n\\ndef read_data(\\n    data_path: str,\\n    supported_expansions: List[str] = [\\\"ZNR\\\", \\\"KHM\\\", \\\"STX\\\", \\\"AFR\\\", \\\"MID\\\", \\\"VOW\\\"],\\n) -> pd.DataFrame:\\n    \\\"\\\"\\\"\\n    Load up the html version of the 17Lands card ratings and stack them. Also\\n    load the card_id mapping and join it\\n    \\\"\\\"\\\"\\n    card_ids_df = pd.read_csv(\\n        os.path.join(data_path, \\\"card_list.csv\\\"),\\n        usecols=[\\n            \\\"id\\\",\\n            \\\"expansion\\\",\\n            \\\"name\\\",\\n            \\\"rarity\\\",\\n            \\\"color_identity\\\",\\n            \\\"mana_value\\\",\\n            \\\"types\\\",\\n        ],\\n    )\\n    card_ids_df = card_ids_df[card_ids_df.expansion.isin(supported_expansions)]\\n    card_ids_df = card_ids_df[[\\\"id\\\", \\\"expansion\\\", \\\"name\\\", \\\"types\\\"]]\\n\\n    ratings_df = None\\n    for set_name in supported_expansions:\\n        single_df = pd.read_html(\\n            os.path.join(data_path, f\\\"{set_name.lower()}_card_ratings.html\\\")\\n        )[0]\\n        single_df[\\\"expansion\\\"] = set_name.upper()\\n        if ratings_df is None:\\n            ratings_df = single_df\\n        else:\\n            ratings_df = ratings_df.append(single_df)\\n    ratings_df = ratings_df.rename(columns={k: k.lower() for k in ratings_df.columns})\\n\\n    joined = pd.merge(\\n        ratings_df,\\n        card_ids_df,\\n        how=\\\"left\\\",\\n        left_on=[\\\"name\\\", \\\"expansion\\\"],\\n        right_on=[\\\"name\\\", \\\"expansion\\\"],\\n        suffixes=[\\\"\\\", \\\"_y\\\"],\\n    )\\n    joined[\\\"iwd\\\"] = joined[\\\"iwd\\\"].apply(lambda x: float(str(x).replace(\\\"pp\\\", \\\"\\\")))\\n    return joined.set_index(\\\"id\\\")\";\n",
       "                var nbb_cells = Jupyter.notebook.get_cells();\n",
       "                for (var i = 0; i < nbb_cells.length; ++i) {\n",
       "                    if (nbb_cells[i].input_prompt_number == nbb_cell_id) {\n",
       "                        if (nbb_cells[i].get_text() == nbb_unformatted_code) {\n",
       "                             nbb_cells[i].set_text(nbb_formatted_code);\n",
       "                        }\n",
       "                        break;\n",
       "                    }\n",
       "                }\n",
       "            }, 500);\n",
       "            "
      ],
      "text/plain": [
       "<IPython.core.display.Javascript object>"
      ]
     },
     "metadata": {},
     "output_type": "display_data"
    }
   ],
   "source": [
    "class DashFollower(Follower):\n",
    "    \"\"\"\n",
    "    Inherit from Follower but remove most of the functionality in \n",
    "    favor of just keeping track of current draft status\n",
    "    \"\"\"\n",
    "    def __init__(self, *args, **kwargs):\n",
    "        super().__init__(*args, **kwargs)\n",
    "        self.pack_number = \"\"\n",
    "        self.pick_number = \"\"\n",
    "    \n",
    "    def picked_card(self, json_obj: Dict[str, Any], mode: str):\n",
    "        if not hasattr(self, \"pool_card_ids\"):\n",
    "            self.pool_card_ids = []\n",
    "        # fail if not in (bot, combined) since I'm unfamiliar with \n",
    "        # if there's another option\n",
    "        if mode == \"bot\":\n",
    "            card_id = int(json_obj[\"CardId\"])\n",
    "        if mode == 'combined':\n",
    "            card_id = int(json_obj['PickGrpId'])\n",
    "        self.pool_card_ids.append(card_id)\n",
    "    \n",
    "    def got_pack(self, json_obj: Dict[str, Any], mode: str):\n",
    "        if mode == \"bot\":\n",
    "            picks = [int(x) for x in json_obj[\"DraftPack\"]]\n",
    "            pack_num_key = \"PackNumber\"\n",
    "            pick_num_key = \"PickNumber\"\n",
    "        elif mode == \"human\":\n",
    "            picks = [int(x) for x in json_obj['PackCards'].split(',')]\n",
    "            pack_num_key = \"SelfPack\"\n",
    "            pick_num_key = \"SelfPick\"\n",
    "        elif mode == \"combined\":\n",
    "            picks = json_obj['CardsInPack']\n",
    "            pack_num_key = \"PackNumber\"\n",
    "            pick_num_key = \"PickNumber\"\n",
    "        self.pick_options = picks\n",
    "        self.pack_number = json_obj[pack_num_key]\n",
    "        self.pick_number = json_obj[pick_num_key]\n",
    "\n",
    "    def _Follower__retry_post(self, *args, **kwargs):\n",
    "        \"\"\"\n",
    "        We don't want to mess anything up, so don't talk to the API at all\n",
    "        \"\"\"\n",
    "        r = requests.Response()\n",
    "        r.status_code = 200\n",
    "        return r\n",
    "\n",
    "    def _Follower__handle_bot_draft_pack(self, json_obj: Dict[str, Any]):\n",
    "#         super()._Follower__handle_bot_draft_pack(json_obj)\n",
    "        self.got_pack(json_obj, \"bot\")\n",
    "\n",
    "    def _Follower__handle_bot_draft_pick(self, json_obj: Dict[str, Any]):\n",
    "#         super()._Follower__handle_bot_draft_pick(json_obj)\n",
    "        self.picked_card(json_obj, \"bot\")\n",
    "\n",
    "    def _Follower__handle_human_draft_pack(self, json_obj: Dict[str, Any]):\n",
    "        self.got_pack(json_obj, \"human\")\n",
    "    \n",
    "    def _Follower_handle_human_draft_combined(self, json_obj: Dict[str, Any]):\n",
    "        self.got_pack(json_obj, \"combined\")\n",
    "\n",
    "    def _Follower__handle_joined_pod(self, json_obj: Dict[Any, str]):\n",
    "        self.pick_options = []\n",
    "        self.pool_card_ids = []\n",
    "\n",
    "    def _Follower__handle_blob(self, full_log):\n",
    "        \"\"\"Attempt to parse a complete log message and send the data if relevant.\"\"\"\n",
    "        match = JSON_START_REGEX.search(full_log)\n",
    "        if not match:\n",
    "            return\n",
    "        try:\n",
    "            json_obj, end = self.json_decoder.raw_decode(full_log, match.start())\n",
    "        except json.JSONDecodeError as e:\n",
    "            logger.debug(\n",
    "                f\"Ran into error {e} when parsing at {self.cur_log_time}. Data was: {full_log}\"\n",
    "            )\n",
    "            return\n",
    "\n",
    "        json_obj = self._Follower__extract_payload(json_obj)\n",
    "        #         print(json_obj)\n",
    "        if type(json_obj) != dict:\n",
    "            return\n",
    "\n",
    "        try:\n",
    "            maybe_time = self._Follower__maybe_get_utc_timestamp(json_obj)\n",
    "            if maybe_time is not None:\n",
    "                self.last_utc_time = maybe_time\n",
    "        except:\n",
    "            pass\n",
    "\n",
    "        if json_value_matches(\n",
    "            \"Client.Connected\", [\"params\", \"messageName\"], json_obj\n",
    "        ):  # Doesn't exist any more\n",
    "            self._Follower__handle_login(json_obj)\n",
    "        elif \"Event_Join\" in full_log and \"EventName\" in json_obj:\n",
    "            self._Follower__handle_joined_pod(json_obj)\n",
    "        elif \"DraftStatus\" in json_obj:\n",
    "            #             print(\"draft status\")\n",
    "            self._Follower__handle_bot_draft_pack(json_obj)\n",
    "        elif \"BotDraft_DraftPick\" in full_log and \"PickInfo\" in json_obj:\n",
    "            #             print(\"draft pick\")\n",
    "            self._Follower__handle_bot_draft_pick(json_obj[\"PickInfo\"])\n",
    "        elif \"LogBusinessEvents\" in full_log and \"PickGrpId\" in json_obj:\n",
    "            self._Follower__handle_human_draft_combined(json_obj)\n",
    "        elif \"Draft.Notify \" in full_log and \"method\" not in json_obj:\n",
    "            self._Follower__handle_human_draft_pack(json_obj)\n",
    "        elif \"authenticateResponse\" in json_obj:\n",
    "            self._Follower__update_screen_name(\n",
    "                json_obj[\"authenticateResponse\"][\"screenName\"]\n",
    "            )\n",
    "\n",
    "def read_data(\n",
    "    data_path: str,\n",
    "    supported_expansions: List[str] = [\"ZNR\", \"KHM\", \"STX\", \"AFR\", \"MID\", \"VOW\"],\n",
    ") -> pd.DataFrame:\n",
    "    \"\"\"\n",
    "    Load up the html version of the 17Lands card ratings and stack them. Also\n",
    "    load the card_id mapping and join it\n",
    "    \"\"\"\n",
    "    card_ids_df = pd.read_csv(\n",
    "        os.path.join(data_path, \"card_list.csv\"),\n",
    "        usecols=[\n",
    "            \"id\",\n",
    "            \"expansion\",\n",
    "            \"name\",\n",
    "            \"rarity\",\n",
    "            \"color_identity\",\n",
    "            \"mana_value\",\n",
    "            \"types\",\n",
    "        ],\n",
    "    )\n",
    "    card_ids_df = card_ids_df[card_ids_df.expansion.isin(supported_expansions)]\n",
    "    card_ids_df = card_ids_df[[\"id\", \"expansion\", \"name\", \"types\"]]\n",
    "\n",
    "    ratings_df = None\n",
    "    for set_name in supported_expansions:\n",
    "        single_df = pd.read_html(\n",
    "            os.path.join(data_path, f\"{set_name.lower()}_card_ratings.html\")\n",
    "        )[0]\n",
    "        single_df[\"expansion\"] = set_name.upper()\n",
    "        if ratings_df is None:\n",
    "            ratings_df = single_df\n",
    "        else:\n",
    "            ratings_df = ratings_df.append(single_df)\n",
    "    ratings_df = ratings_df.rename(columns={k: k.lower() for k in ratings_df.columns})\n",
    "\n",
    "    joined = pd.merge(\n",
    "        ratings_df,\n",
    "        card_ids_df,\n",
    "        how=\"left\",\n",
    "        left_on=[\"name\", \"expansion\"],\n",
    "        right_on=[\"name\", \"expansion\"],\n",
    "        suffixes=[\"\", \"_y\"],\n",
    "    )\n",
    "    joined[\"iwd\"] = joined[\"iwd\"].apply(lambda x: float(str(x).replace(\"pp\", \"\")))\n",
    "    return joined.set_index(\"id\")\n"
   ]
  },
  {
   "cell_type": "code",
   "execution_count": null,
   "id": "878df6d5",
   "metadata": {
    "scrolled": true
   },
   "outputs": [],
   "source": []
  },
  {
   "cell_type": "code",
   "execution_count": null,
   "id": "aff6bc11",
   "metadata": {},
   "outputs": [],
   "source": []
  },
  {
   "cell_type": "code",
   "execution_count": 4,
   "id": "82d409a5",
   "metadata": {},
   "outputs": [
    {
     "data": {
      "application/javascript": [
       "\n",
       "            setTimeout(function() {\n",
       "                var nbb_cell_id = 4;\n",
       "                var nbb_unformatted_code = \"df = read_data(\\\"./data/\\\")\";\n",
       "                var nbb_formatted_code = \"df = read_data(\\\"./data/\\\")\";\n",
       "                var nbb_cells = Jupyter.notebook.get_cells();\n",
       "                for (var i = 0; i < nbb_cells.length; ++i) {\n",
       "                    if (nbb_cells[i].input_prompt_number == nbb_cell_id) {\n",
       "                        if (nbb_cells[i].get_text() == nbb_unformatted_code) {\n",
       "                             nbb_cells[i].set_text(nbb_formatted_code);\n",
       "                        }\n",
       "                        break;\n",
       "                    }\n",
       "                }\n",
       "            }, 500);\n",
       "            "
      ],
      "text/plain": [
       "<IPython.core.display.Javascript object>"
      ]
     },
     "metadata": {},
     "output_type": "display_data"
    }
   ],
   "source": [
    "df = read_data(\"./data/\")"
   ]
  },
  {
   "cell_type": "code",
   "execution_count": 10,
   "id": "249a463e",
   "metadata": {},
   "outputs": [
    {
     "name": "stdout",
     "output_type": "stream",
     "text": [
      "looking for logfile at: C:\\Users\\thisi\\AppData\\LocalLow\\Wizards Of The Coast\\MTGA\\Player-demo.log\n",
      "Dash is running on http://127.0.0.1:8050/\n",
      "\n",
      "Dash is running on http://127.0.0.1:8050/\n",
      "\n",
      "Dash is running on http://127.0.0.1:8050/\n",
      "\n",
      "Dash is running on http://127.0.0.1:8050/\n",
      "\n",
      " * Serving Flask app '__main__' (lazy loading)\n",
      " * Environment: production\n",
      "\u001b[31m   WARNING: This is a development server. Do not use it in a production deployment.\u001b[0m\n",
      "\u001b[2m   Use a production WSGI server instead.\u001b[0m\n",
      " * Debug mode: off\n"
     ]
    },
    {
     "name": "stderr",
     "output_type": "stream",
     "text": [
      " * Running on http://127.0.0.1:8050/ (Press CTRL+C to quit)\n",
      "20211216 223637,INFO,Detailed logs enabled in MTGA.\n",
      "20211216 223637,INFO,Done processing file.\n",
      "127.0.0.1 - - [16/Dec/2021 22:36:37] \"POST /_dash-update-component HTTP/1.1\" 200 -\n"
     ]
    },
    {
     "name": "stdout",
     "output_type": "stream",
     "text": [
      "parsed file in 0.18666386604309082 seconds\n",
      "rebuilt dash components in 0.03185629844665527 seconds\n"
     ]
    },
    {
     "name": "stderr",
     "output_type": "stream",
     "text": [
      "20211216 223647,INFO,Detailed logs enabled in MTGA.\n",
      "20211216 223647,INFO,Done processing file.\n",
      "127.0.0.1 - - [16/Dec/2021 22:36:47] \"POST /_dash-update-component HTTP/1.1\" 200 -\n"
     ]
    },
    {
     "name": "stdout",
     "output_type": "stream",
     "text": [
      "parsed file in 0.1975104808807373 seconds\n",
      "rebuilt dash components in 0.03478360176086426 seconds\n"
     ]
    },
    {
     "name": "stderr",
     "output_type": "stream",
     "text": [
      "20211216 223657,INFO,Detailed logs enabled in MTGA.\n",
      "20211216 223657,INFO,Done processing file.\n",
      "127.0.0.1 - - [16/Dec/2021 22:36:57] \"POST /_dash-update-component HTTP/1.1\" 200 -\n"
     ]
    },
    {
     "name": "stdout",
     "output_type": "stream",
     "text": [
      "parsed file in 0.1952049732208252 seconds\n",
      "rebuilt dash components in 0.03197598457336426 seconds\n"
     ]
    },
    {
     "name": "stderr",
     "output_type": "stream",
     "text": [
      "20211216 223707,INFO,Detailed logs enabled in MTGA.\n",
      "20211216 223707,INFO,Done processing file.\n",
      "127.0.0.1 - - [16/Dec/2021 22:37:07] \"POST /_dash-update-component HTTP/1.1\" 200 -\n"
     ]
    },
    {
     "name": "stdout",
     "output_type": "stream",
     "text": [
      "parsed file in 0.18992948532104492 seconds\n",
      "rebuilt dash components in 0.031873464584350586 seconds\n"
     ]
    },
    {
     "name": "stderr",
     "output_type": "stream",
     "text": [
      "20211216 223717,INFO,Detailed logs enabled in MTGA.\n",
      "20211216 223717,INFO,Done processing file.\n",
      "127.0.0.1 - - [16/Dec/2021 22:37:17] \"POST /_dash-update-component HTTP/1.1\" 200 -\n"
     ]
    },
    {
     "name": "stdout",
     "output_type": "stream",
     "text": [
      "parsed file in 0.1858959197998047 seconds\n",
      "rebuilt dash components in 0.029970884323120117 seconds\n"
     ]
    },
    {
     "name": "stderr",
     "output_type": "stream",
     "text": [
      "20211216 223727,INFO,Detailed logs enabled in MTGA.\n",
      "20211216 223727,INFO,Done processing file.\n",
      "127.0.0.1 - - [16/Dec/2021 22:37:27] \"POST /_dash-update-component HTTP/1.1\" 200 -\n"
     ]
    },
    {
     "name": "stdout",
     "output_type": "stream",
     "text": [
      "parsed file in 0.2604360580444336 seconds\n",
      "rebuilt dash components in 0.03135323524475098 seconds\n"
     ]
    },
    {
     "name": "stderr",
     "output_type": "stream",
     "text": [
      "20211216 223737,INFO,Detailed logs enabled in MTGA.\n",
      "20211216 223737,INFO,Done processing file.\n",
      "127.0.0.1 - - [16/Dec/2021 22:37:37] \"POST /_dash-update-component HTTP/1.1\" 200 -\n"
     ]
    },
    {
     "name": "stdout",
     "output_type": "stream",
     "text": [
      "parsed file in 0.21335077285766602 seconds\n",
      "rebuilt dash components in 0.03900003433227539 seconds\n"
     ]
    },
    {
     "name": "stderr",
     "output_type": "stream",
     "text": [
      "20211216 223747,INFO,Detailed logs enabled in MTGA.\n",
      "20211216 223747,INFO,Done processing file.\n",
      "127.0.0.1 - - [16/Dec/2021 22:37:47] \"POST /_dash-update-component HTTP/1.1\" 200 -\n"
     ]
    },
    {
     "name": "stdout",
     "output_type": "stream",
     "text": [
      "parsed file in 0.1975395679473877 seconds\n",
      "rebuilt dash components in 0.031000852584838867 seconds\n"
     ]
    },
    {
     "name": "stderr",
     "output_type": "stream",
     "text": [
      "20211216 223757,INFO,Detailed logs enabled in MTGA.\n",
      "20211216 223757,INFO,Done processing file.\n",
      "127.0.0.1 - - [16/Dec/2021 22:37:57] \"POST /_dash-update-component HTTP/1.1\" 200 -\n"
     ]
    },
    {
     "name": "stdout",
     "output_type": "stream",
     "text": [
      "parsed file in 0.2227623462677002 seconds\n",
      "rebuilt dash components in 0.0330958366394043 seconds\n"
     ]
    },
    {
     "name": "stderr",
     "output_type": "stream",
     "text": [
      "20211216 223807,INFO,Detailed logs enabled in MTGA.\n",
      "20211216 223807,INFO,Done processing file.\n",
      "127.0.0.1 - - [16/Dec/2021 22:38:07] \"POST /_dash-update-component HTTP/1.1\" 200 -\n"
     ]
    },
    {
     "name": "stdout",
     "output_type": "stream",
     "text": [
      "parsed file in 0.18814659118652344 seconds\n",
      "rebuilt dash components in 0.029965877532958984 seconds\n"
     ]
    },
    {
     "name": "stderr",
     "output_type": "stream",
     "text": [
      "20211216 223817,INFO,Detailed logs enabled in MTGA.\n",
      "20211216 223817,INFO,Done processing file.\n",
      "127.0.0.1 - - [16/Dec/2021 22:38:17] \"POST /_dash-update-component HTTP/1.1\" 200 -\n"
     ]
    },
    {
     "name": "stdout",
     "output_type": "stream",
     "text": [
      "parsed file in 0.19128108024597168 seconds\n",
      "rebuilt dash components in 0.02999711036682129 seconds\n"
     ]
    },
    {
     "name": "stderr",
     "output_type": "stream",
     "text": [
      "20211216 223827,INFO,Detailed logs enabled in MTGA.\n",
      "20211216 223827,INFO,Done processing file.\n",
      "127.0.0.1 - - [16/Dec/2021 22:38:27] \"POST /_dash-update-component HTTP/1.1\" 200 -\n"
     ]
    },
    {
     "name": "stdout",
     "output_type": "stream",
     "text": [
      "parsed file in 0.18755459785461426 seconds\n",
      "rebuilt dash components in 0.03403925895690918 seconds\n"
     ]
    },
    {
     "name": "stderr",
     "output_type": "stream",
     "text": [
      "20211216 223837,INFO,Detailed logs enabled in MTGA.\n",
      "20211216 223837,INFO,Done processing file.\n",
      "127.0.0.1 - - [16/Dec/2021 22:38:37] \"POST /_dash-update-component HTTP/1.1\" 200 -\n"
     ]
    },
    {
     "name": "stdout",
     "output_type": "stream",
     "text": [
      "parsed file in 0.1813209056854248 seconds\n",
      "rebuilt dash components in 0.029000282287597656 seconds\n"
     ]
    },
    {
     "name": "stderr",
     "output_type": "stream",
     "text": [
      "20211216 223847,INFO,Detailed logs enabled in MTGA.\n",
      "20211216 223847,INFO,Done processing file.\n",
      "127.0.0.1 - - [16/Dec/2021 22:38:47] \"POST /_dash-update-component HTTP/1.1\" 200 -\n"
     ]
    },
    {
     "name": "stdout",
     "output_type": "stream",
     "text": [
      "parsed file in 0.18698453903198242 seconds\n",
      "rebuilt dash components in 0.029813766479492188 seconds\n"
     ]
    },
    {
     "name": "stderr",
     "output_type": "stream",
     "text": [
      "20211216 223857,INFO,Detailed logs enabled in MTGA.\n",
      "20211216 223857,INFO,Done processing file.\n",
      "127.0.0.1 - - [16/Dec/2021 22:38:57] \"POST /_dash-update-component HTTP/1.1\" 200 -\n"
     ]
    },
    {
     "name": "stdout",
     "output_type": "stream",
     "text": [
      "parsed file in 0.17667818069458008 seconds\n",
      "rebuilt dash components in 0.030742168426513672 seconds\n"
     ]
    },
    {
     "name": "stderr",
     "output_type": "stream",
     "text": [
      "20211216 223907,INFO,Detailed logs enabled in MTGA.\n",
      "20211216 223907,INFO,Done processing file.\n",
      "127.0.0.1 - - [16/Dec/2021 22:39:07] \"POST /_dash-update-component HTTP/1.1\" 200 -\n"
     ]
    },
    {
     "name": "stdout",
     "output_type": "stream",
     "text": [
      "parsed file in 0.18896126747131348 seconds\n",
      "rebuilt dash components in 0.034735918045043945 seconds\n"
     ]
    },
    {
     "name": "stderr",
     "output_type": "stream",
     "text": [
      "20211216 223917,INFO,Detailed logs enabled in MTGA.\n",
      "20211216 223917,INFO,Done processing file.\n",
      "127.0.0.1 - - [16/Dec/2021 22:39:17] \"POST /_dash-update-component HTTP/1.1\" 200 -\n"
     ]
    },
    {
     "name": "stdout",
     "output_type": "stream",
     "text": [
      "parsed file in 0.1799783706665039 seconds\n",
      "rebuilt dash components in 0.030998945236206055 seconds\n"
     ]
    },
    {
     "name": "stderr",
     "output_type": "stream",
     "text": [
      "20211216 223927,INFO,Detailed logs enabled in MTGA.\n",
      "20211216 223927,INFO,Done processing file.\n",
      "127.0.0.1 - - [16/Dec/2021 22:39:27] \"POST /_dash-update-component HTTP/1.1\" 200 -\n"
     ]
    },
    {
     "name": "stdout",
     "output_type": "stream",
     "text": [
      "parsed file in 0.17924213409423828 seconds\n",
      "rebuilt dash components in 0.02944326400756836 seconds\n"
     ]
    },
    {
     "name": "stderr",
     "output_type": "stream",
     "text": [
      "20211216 223937,INFO,Detailed logs enabled in MTGA.\n",
      "20211216 223937,INFO,Done processing file.\n",
      "127.0.0.1 - - [16/Dec/2021 22:39:37] \"POST /_dash-update-component HTTP/1.1\" 200 -\n"
     ]
    },
    {
     "name": "stdout",
     "output_type": "stream",
     "text": [
      "parsed file in 0.1856985092163086 seconds\n",
      "rebuilt dash components in 0.03176403045654297 seconds\n"
     ]
    },
    {
     "name": "stderr",
     "output_type": "stream",
     "text": [
      "20211216 223947,INFO,Detailed logs enabled in MTGA.\n",
      "20211216 223947,INFO,Done processing file.\n",
      "127.0.0.1 - - [16/Dec/2021 22:39:47] \"POST /_dash-update-component HTTP/1.1\" 200 -\n"
     ]
    },
    {
     "name": "stdout",
     "output_type": "stream",
     "text": [
      "parsed file in 0.2574746608734131 seconds\n",
      "rebuilt dash components in 0.029988765716552734 seconds\n"
     ]
    },
    {
     "name": "stderr",
     "output_type": "stream",
     "text": [
      "20211216 223957,INFO,Detailed logs enabled in MTGA.\n",
      "20211216 223957,INFO,Done processing file.\n",
      "127.0.0.1 - - [16/Dec/2021 22:39:57] \"POST /_dash-update-component HTTP/1.1\" 200 -\n"
     ]
    },
    {
     "name": "stdout",
     "output_type": "stream",
     "text": [
      "parsed file in 0.20387840270996094 seconds\n",
      "rebuilt dash components in 0.02899789810180664 seconds\n"
     ]
    },
    {
     "name": "stderr",
     "output_type": "stream",
     "text": [
      "20211216 224007,INFO,Detailed logs enabled in MTGA.\n",
      "20211216 224007,INFO,Done processing file.\n",
      "127.0.0.1 - - [16/Dec/2021 22:40:07] \"POST /_dash-update-component HTTP/1.1\" 200 -\n"
     ]
    },
    {
     "name": "stdout",
     "output_type": "stream",
     "text": [
      "parsed file in 0.18822813034057617 seconds\n",
      "rebuilt dash components in 0.027966976165771484 seconds\n"
     ]
    },
    {
     "name": "stderr",
     "output_type": "stream",
     "text": [
      "20211216 224017,INFO,Detailed logs enabled in MTGA.\n",
      "20211216 224017,INFO,Done processing file.\n",
      "127.0.0.1 - - [16/Dec/2021 22:40:17] \"POST /_dash-update-component HTTP/1.1\" 200 -\n"
     ]
    },
    {
     "name": "stdout",
     "output_type": "stream",
     "text": [
      "parsed file in 0.18377017974853516 seconds\n",
      "rebuilt dash components in 0.029964685440063477 seconds\n"
     ]
    },
    {
     "name": "stderr",
     "output_type": "stream",
     "text": [
      "20211216 224027,INFO,Detailed logs enabled in MTGA.\n",
      "20211216 224027,INFO,Done processing file.\n",
      "127.0.0.1 - - [16/Dec/2021 22:40:27] \"POST /_dash-update-component HTTP/1.1\" 200 -\n"
     ]
    },
    {
     "name": "stdout",
     "output_type": "stream",
     "text": [
      "parsed file in 0.20064926147460938 seconds\n",
      "rebuilt dash components in 0.03182578086853027 seconds\n"
     ]
    },
    {
     "name": "stderr",
     "output_type": "stream",
     "text": [
      "20211216 224037,INFO,Detailed logs enabled in MTGA.\n",
      "20211216 224037,INFO,Done processing file.\n",
      "127.0.0.1 - - [16/Dec/2021 22:40:37] \"POST /_dash-update-component HTTP/1.1\" 200 -\n"
     ]
    },
    {
     "name": "stdout",
     "output_type": "stream",
     "text": [
      "parsed file in 0.18450212478637695 seconds\n",
      "rebuilt dash components in 0.031002283096313477 seconds\n"
     ]
    },
    {
     "name": "stderr",
     "output_type": "stream",
     "text": [
      "20211216 224047,INFO,Detailed logs enabled in MTGA.\n",
      "20211216 224047,INFO,Done processing file.\n",
      "127.0.0.1 - - [16/Dec/2021 22:40:47] \"POST /_dash-update-component HTTP/1.1\" 200 -\n"
     ]
    },
    {
     "name": "stdout",
     "output_type": "stream",
     "text": [
      "parsed file in 0.30765509605407715 seconds\n",
      "rebuilt dash components in 0.047818899154663086 seconds\n"
     ]
    },
    {
     "name": "stderr",
     "output_type": "stream",
     "text": [
      "20211216 224057,INFO,Detailed logs enabled in MTGA.\n",
      "20211216 224057,INFO,Done processing file.\n",
      "127.0.0.1 - - [16/Dec/2021 22:40:57] \"POST /_dash-update-component HTTP/1.1\" 200 -\n"
     ]
    },
    {
     "name": "stdout",
     "output_type": "stream",
     "text": [
      "parsed file in 0.17461156845092773 seconds\n",
      "rebuilt dash components in 0.029997587203979492 seconds\n"
     ]
    },
    {
     "name": "stderr",
     "output_type": "stream",
     "text": [
      "20211216 224107,INFO,Detailed logs enabled in MTGA.\n",
      "20211216 224107,INFO,Done processing file.\n",
      "127.0.0.1 - - [16/Dec/2021 22:41:07] \"POST /_dash-update-component HTTP/1.1\" 200 -\n"
     ]
    },
    {
     "name": "stdout",
     "output_type": "stream",
     "text": [
      "parsed file in 0.18535470962524414 seconds\n",
      "rebuilt dash components in 0.029999256134033203 seconds\n"
     ]
    },
    {
     "name": "stderr",
     "output_type": "stream",
     "text": [
      "20211216 224116,INFO,Detailed logs enabled in MTGA.\n",
      "20211216 224116,INFO,Done processing file.\n",
      "127.0.0.1 - - [16/Dec/2021 22:41:16] \"POST /_dash-update-component HTTP/1.1\" 200 -\n"
     ]
    },
    {
     "name": "stdout",
     "output_type": "stream",
     "text": [
      "parsed file in 0.21299982070922852 seconds\n",
      "rebuilt dash components in 0.028026342391967773 seconds\n"
     ]
    },
    {
     "name": "stderr",
     "output_type": "stream",
     "text": [
      "20211216 224126,INFO,Detailed logs enabled in MTGA.\n",
      "20211216 224126,INFO,Done processing file.\n",
      "127.0.0.1 - - [16/Dec/2021 22:41:26] \"POST /_dash-update-component HTTP/1.1\" 200 -\n"
     ]
    },
    {
     "name": "stdout",
     "output_type": "stream",
     "text": [
      "parsed file in 0.17786669731140137 seconds\n",
      "rebuilt dash components in 0.028053760528564453 seconds\n"
     ]
    },
    {
     "name": "stderr",
     "output_type": "stream",
     "text": [
      "20211216 224136,INFO,Detailed logs enabled in MTGA.\n",
      "20211216 224136,INFO,Done processing file.\n",
      "127.0.0.1 - - [16/Dec/2021 22:41:36] \"POST /_dash-update-component HTTP/1.1\" 200 -\n"
     ]
    },
    {
     "name": "stdout",
     "output_type": "stream",
     "text": [
      "parsed file in 0.17713427543640137 seconds\n",
      "rebuilt dash components in 0.028167009353637695 seconds\n"
     ]
    },
    {
     "name": "stderr",
     "output_type": "stream",
     "text": [
      "20211216 224146,INFO,Detailed logs enabled in MTGA.\n",
      "20211216 224146,INFO,Done processing file.\n",
      "127.0.0.1 - - [16/Dec/2021 22:41:46] \"POST /_dash-update-component HTTP/1.1\" 200 -\n"
     ]
    },
    {
     "name": "stdout",
     "output_type": "stream",
     "text": [
      "parsed file in 0.1801471710205078 seconds\n",
      "rebuilt dash components in 0.027851343154907227 seconds\n"
     ]
    },
    {
     "name": "stderr",
     "output_type": "stream",
     "text": [
      "20211216 224156,INFO,Detailed logs enabled in MTGA.\n",
      "20211216 224156,INFO,Done processing file.\n",
      "127.0.0.1 - - [16/Dec/2021 22:41:56] \"POST /_dash-update-component HTTP/1.1\" 200 -\n"
     ]
    },
    {
     "name": "stdout",
     "output_type": "stream",
     "text": [
      "parsed file in 0.17926859855651855 seconds\n",
      "rebuilt dash components in 0.027968883514404297 seconds\n"
     ]
    },
    {
     "name": "stderr",
     "output_type": "stream",
     "text": [
      "20211216 224206,INFO,Detailed logs enabled in MTGA.\n",
      "20211216 224206,INFO,Done processing file.\n",
      "127.0.0.1 - - [16/Dec/2021 22:42:06] \"POST /_dash-update-component HTTP/1.1\" 200 -\n"
     ]
    },
    {
     "name": "stdout",
     "output_type": "stream",
     "text": [
      "parsed file in 0.17894339561462402 seconds\n",
      "rebuilt dash components in 0.027965307235717773 seconds\n"
     ]
    },
    {
     "data": {
      "application/javascript": [
       "\n",
       "            setTimeout(function() {\n",
       "                var nbb_cell_id = 10;\n",
       "                var nbb_unformatted_code = \"# number of seconds between refreshes. Needs to be long enough to fully parse your\\n# .log file. If your file is huge, this could be an issue, and you may want to exit\\n# and reload the game\\nN_SECONDS = 3\\n\\n# This is the path to your log file. If you want to test it out, I recommend\\n# saving a copy of one and editing it to have however many events you'd like\\nlogfile = os.path.join(\\n    Path.home(), r\\\"AppData\\\\LocalLow\\\\Wizards Of The Coast\\\\MTGA\\\\Player-demo.log\\\"\\n)\\n\\nprint(f\\\"looking for logfile at: {logfile}\\\")\\n\\n# This may pop up a dialog the first time, I'm not sure.\\ntoken = get_config()\\n\\n# This controls what displays. you can print(df) to see your column options\\nuseful_cols = [\\n    \\\"name\\\",\\n    \\\"color\\\",\\n    \\\"types\\\",\\n    \\\"rarity\\\",\\n    \\\"alsa\\\",\\n    \\\"ata\\\",\\n    \\\"oh wr\\\",\\n    \\\"gd wr\\\",\\n    \\\"iwd\\\",\\n]\\n\\n# allows you to override the CSS of the dash app\\nexternal_stylesheets = [\\\"https://codepen.io/chriddyp/pen/bWLwgP.css\\\", dbc.themes.GRID]\\n\\n# modify this to change the cell styling in the tables\\ncell_styling = {\\\"textAlign\\\": \\\"left\\\", \\\"padding\\\": \\\"5px\\\"}\\n\\n# making server explicit so that eventually a Follower object could\\n# run separately and just post relevant events to an event API\\n# flask_app = Flask(__name__)\\n\\n# the core of the app\\napp = dash.Dash(\\n    __name__,\\n    #     server=flask_app,\\n    #     url_base_pathname=\\\"/dash/\\\",\\n    external_stylesheets=external_stylesheets,\\n)\\napp.layout = html.Div(\\n    html.Div(\\n        [\\n            dbc.Container(\\n                [\\n                    dbc.Row(html.H4(\\\"Current Options\\\")),\\n                    dbc.Row(html.Div(id=\\\"live-update-text\\\")),\\n                    dbc.Row(html.Div(id=\\\"current-pick-table-holder\\\")),\\n                    dbc.Row(html.H4(\\\"Pool So Far\\\")),\\n                    dbc.Row(html.Div(id=\\\"pool-table-holder\\\")),\\n                ]\\n            ),\\n            dcc.Interval(\\n                id=\\\"interval-component\\\",\\n                interval=N_SECONDS * 1000,  # in milliseconds\\n                n_intervals=0,\\n            ),\\n        ]\\n    )\\n)\\n\\n\\ndef get_color_count_graph(inp_df: pd.DataFrame) -> plotly.graph_objects.Figure:\\n    \\\"\\\"\\\"\\n    Count the occurences of each \\\"color\\\" symbol in the card data's \\\"color\\\" column\\n    in the pool of cards you've drafted so far.\\n    \\\"\\\"\\\"\\n    color_counts = (\\n        inp_df.color.apply(lambda x: list(x) if isinstance(x, str) else [])\\n        .explode()\\n        .value_counts()\\n        .reset_index()\\n        .rename(columns={\\\"index\\\": \\\"Color\\\", \\\"color\\\": \\\"Count\\\"})\\n    )\\n    color_hexes = [\\\"#838383\\\", \\\"#26b569\\\", \\\"#f85656\\\", \\\"#aae0fa\\\", \\\"#fef2be\\\"]\\n    missing_colors = [\\n        c for c in (\\\"B\\\", \\\"G\\\", \\\"R\\\", \\\"U\\\", \\\"W\\\") if c not in color_counts.Color.values\\n    ]\\n    missing_df = pd.DataFrame(\\n        [[c, 0] for c in missing_colors], columns=[\\\"Color\\\", \\\"Count\\\"]\\n    )\\n    color_counts.append(missing_df)\\n    color_counts = color_counts.sort_values(\\\"Color\\\")\\n\\n    fig = go.Figure(\\n        data=[\\n            go.Bar(name=x[0], x=[x[0]], y=[x[1]], marker_color=color_hexes[i])\\n            for i, x in enumerate(color_counts.values)\\n        ],\\n    )\\n    fig.update_layout(\\n        title={\\n            \\\"text\\\": \\\"Card Color Counts\\\",\\n            \\\"y\\\": 0.9,\\n            \\\"x\\\": 0.5,\\n            \\\"xanchor\\\": \\\"center\\\",\\n            \\\"yanchor\\\": \\\"top\\\",\\n        }\\n    )\\n    return fig\\n\\n\\ndef get_type_summary(inp_df: pd.DataFrame) -> Tuple[pd.DataFrame, pd.DataFrame]:\\n    \\\"\\\"\\\"\\n    Get counts of the core card types and of the other keywords in your\\n    pool of drafted cards so far.\\n    \\\"\\\"\\\"\\n    copied = inp_df.copy()\\n    card_types = [\\n        \\\"Land\\\",\\n        \\\"Artifact\\\",\\n        \\\"Creature\\\",\\n        \\\"Enchantment\\\",\\n        \\\"Planeswalker\\\",\\n        \\\"Instant\\\",\\n        \\\"Sorcery\\\",\\n    ]\\n    copied[\\\"keywords\\\"] = copied[\\\"types\\\"].apply(\\n        lambda x: [t.strip() for t in x.split(\\\" \\\") if t.strip() not in (\\\"\\\", \\\"-\\\")]\\n    )\\n    vc = copied[\\\"keywords\\\"].explode().value_counts().reset_index()\\n    main = (\\n        vc[vc[\\\"index\\\"].apply(lambda x: x in card_types)]\\n        .copy()\\n        .rename(columns={\\\"index\\\": \\\"type\\\", \\\"keywords\\\": \\\"count\\\"})\\n    )\\n    other = (\\n        vc[~vc[\\\"index\\\"].apply(lambda x: x in card_types)]\\n        .copy()\\n        .rename(columns={\\\"index\\\": \\\"keyword\\\", \\\"keywords\\\": \\\"count\\\"})\\n    )\\n    return main, other\\n\\n\\ndef get_pool_summary(inp_df: pd.DataFrame):\\n    \\\"\\\"\\\"\\n    Return all of the summary objects:\\n      - color count graph\\n      - type count df\\n      - keyword count df\\n    \\\"\\\"\\\"\\n    color_count_graph = get_color_count_graph(inp_df)\\n    main_type_sum, other_type_sum = get_type_summary(inp_df)\\n    return color_count_graph, main_type_sum, other_type_sum\\n\\n\\n# every N seconds, our Interval fires, and we update most of the app\\n# by parsing the log\\n@app.callback(\\n    [\\n        Output(\\\"live-update-text\\\", \\\"children\\\"),\\n        Output(\\\"current-pick-table-holder\\\", \\\"children\\\"),\\n        Output(\\\"pool-table-holder\\\", \\\"children\\\"),\\n    ],\\n    Input(\\\"interval-component\\\", \\\"n_intervals\\\"),\\n)\\ndef update_metrics(n):\\n    \\\"\\\"\\\"\\n    Update the whole app by parsing the log file\\n    \\\"\\\"\\\"\\n    t0 = time.time()\\n    # create a 17Lands client with the API interaction removed\\n    follower = DashFollower(token, API_ENDPOINT)\\n    # parse your whole log\\n    r = follower.parse_log(logfile, follow=False)\\n    t1 = time.time()\\n    print(f\\\"parsed file in {t1 - t0} seconds\\\")\\n\\n    style = {\\\"padding\\\": \\\"5px\\\", \\\"fontSize\\\": \\\"16px\\\"}\\n    # get the cards available to be picked\\n    picked_df = df.loc[getattr(follower, \\\"pick_options\\\", []), useful_cols].sort_values(\\n        \\\"iwd\\\", ascending=False\\n    )\\n    # get the cards you've already drafted\\n    pool_df = df.loc[getattr(follower, \\\"pool_card_ids\\\", []), useful_cols].sort_values(\\n        \\\"iwd\\\", ascending=False\\n    )\\n    # turn them both into Table objects\\n    pick_table = html.Div(\\n        dash_table.DataTable(\\n            id=\\\"pick_table\\\",\\n            columns=[{\\\"name\\\": i, \\\"id\\\": i} for i in picked_df.columns],\\n            data=picked_df.to_dict(\\\"records\\\"),\\n            style_cell=cell_styling,\\n        ),\\n        style={\\\"width\\\": \\\"80%\\\", \\\"margin\\\": \\\"auto\\\"},\\n    )\\n    pool_table = html.Div(\\n        dash_table.DataTable(\\n            id=\\\"pool_table\\\",\\n            columns=[{\\\"name\\\": i, \\\"id\\\": i} for i in pool_df.columns],\\n            data=pool_df.to_dict(\\\"records\\\"),\\n            style_cell=cell_styling,\\n        )\\n    )\\n    # get the summary statistics for your pool\\n    pool_summary, main_type_sum, other_type_sum = get_pool_summary(pool_df)\\n    main_type_sum = dash_table.DataTable(\\n        id=\\\"main_type_table\\\",\\n        columns=[{\\\"name\\\": i, \\\"id\\\": i} for i in main_type_sum.columns],\\n        data=main_type_sum.to_dict(\\\"records\\\"),\\n        style_cell=cell_styling,\\n    )\\n    other_type_sum = dash_table.DataTable(\\n        id=\\\"other_type_table\\\",\\n        columns=[{\\\"name\\\": i, \\\"id\\\": i} for i in other_type_sum.columns],\\n        data=other_type_sum.to_dict(\\\"records\\\"),\\n        style_cell=cell_styling,\\n    )\\n    # update the container with the summary info\\n    curr_div = dbc.Container(\\n        dbc.Row(\\n            [\\n                dbc.Col(pool_table, width={\\\"size\\\": 8}),\\n                dbc.Col(\\n                    [\\n                        dbc.Row(dcc.Graph(figure=pool_summary)),\\n                        dbc.Row(main_type_sum),\\n                        dbc.Row(html.Div(\\\"--\\\")),\\n                        dbc.Row(other_type_sum),\\n                    ],\\n                    width={\\\"size\\\": 4},\\n                ),\\n            ]\\n        )\\n    )\\n    print(f\\\"rebuilt dash components in {time.time() - t1} seconds\\\")\\n    return [\\n        html.Span(\\n            f\\\"Pack {follower.pack_number}, Pick {follower.pick_number}\\\", style=style\\n        ),\\n        pick_table,\\n        curr_div,\\n    ]\\n\\n\\nif __name__ == \\\"__main__\\\":\\n    app.run_server()\";\n",
       "                var nbb_formatted_code = \"# number of seconds between refreshes. Needs to be long enough to fully parse your\\n# .log file. If your file is huge, this could be an issue, and you may want to exit\\n# and reload the game\\nN_SECONDS = 3\\n\\n# This is the path to your log file. If you want to test it out, I recommend\\n# saving a copy of one and editing it to have however many events you'd like\\nlogfile = os.path.join(\\n    Path.home(), r\\\"AppData\\\\LocalLow\\\\Wizards Of The Coast\\\\MTGA\\\\Player-demo.log\\\"\\n)\\n\\nprint(f\\\"looking for logfile at: {logfile}\\\")\\n\\n# This may pop up a dialog the first time, I'm not sure.\\ntoken = get_config()\\n\\n# This controls what displays. you can print(df) to see your column options\\nuseful_cols = [\\n    \\\"name\\\",\\n    \\\"color\\\",\\n    \\\"types\\\",\\n    \\\"rarity\\\",\\n    \\\"alsa\\\",\\n    \\\"ata\\\",\\n    \\\"oh wr\\\",\\n    \\\"gd wr\\\",\\n    \\\"iwd\\\",\\n]\\n\\n# allows you to override the CSS of the dash app\\nexternal_stylesheets = [\\\"https://codepen.io/chriddyp/pen/bWLwgP.css\\\", dbc.themes.GRID]\\n\\n# modify this to change the cell styling in the tables\\ncell_styling = {\\\"textAlign\\\": \\\"left\\\", \\\"padding\\\": \\\"5px\\\"}\\n\\n# making server explicit so that eventually a Follower object could\\n# run separately and just post relevant events to an event API\\n# flask_app = Flask(__name__)\\n\\n# the core of the app\\napp = dash.Dash(\\n    __name__,\\n    #     server=flask_app,\\n    #     url_base_pathname=\\\"/dash/\\\",\\n    external_stylesheets=external_stylesheets,\\n)\\napp.layout = html.Div(\\n    html.Div(\\n        [\\n            dbc.Container(\\n                [\\n                    dbc.Row(html.H4(\\\"Current Options\\\")),\\n                    dbc.Row(html.Div(id=\\\"live-update-text\\\")),\\n                    dbc.Row(html.Div(id=\\\"current-pick-table-holder\\\")),\\n                    dbc.Row(html.H4(\\\"Pool So Far\\\")),\\n                    dbc.Row(html.Div(id=\\\"pool-table-holder\\\")),\\n                ]\\n            ),\\n            dcc.Interval(\\n                id=\\\"interval-component\\\",\\n                interval=N_SECONDS * 1000,  # in milliseconds\\n                n_intervals=0,\\n            ),\\n        ]\\n    )\\n)\\n\\n\\ndef get_color_count_graph(inp_df: pd.DataFrame) -> plotly.graph_objects.Figure:\\n    \\\"\\\"\\\"\\n    Count the occurences of each \\\"color\\\" symbol in the card data's \\\"color\\\" column\\n    in the pool of cards you've drafted so far.\\n    \\\"\\\"\\\"\\n    color_counts = (\\n        inp_df.color.apply(lambda x: list(x) if isinstance(x, str) else [])\\n        .explode()\\n        .value_counts()\\n        .reset_index()\\n        .rename(columns={\\\"index\\\": \\\"Color\\\", \\\"color\\\": \\\"Count\\\"})\\n    )\\n    color_hexes = [\\\"#838383\\\", \\\"#26b569\\\", \\\"#f85656\\\", \\\"#aae0fa\\\", \\\"#fef2be\\\"]\\n    missing_colors = [\\n        c for c in (\\\"B\\\", \\\"G\\\", \\\"R\\\", \\\"U\\\", \\\"W\\\") if c not in color_counts.Color.values\\n    ]\\n    missing_df = pd.DataFrame(\\n        [[c, 0] for c in missing_colors], columns=[\\\"Color\\\", \\\"Count\\\"]\\n    )\\n    color_counts.append(missing_df)\\n    color_counts = color_counts.sort_values(\\\"Color\\\")\\n\\n    fig = go.Figure(\\n        data=[\\n            go.Bar(name=x[0], x=[x[0]], y=[x[1]], marker_color=color_hexes[i])\\n            for i, x in enumerate(color_counts.values)\\n        ],\\n    )\\n    fig.update_layout(\\n        title={\\n            \\\"text\\\": \\\"Card Color Counts\\\",\\n            \\\"y\\\": 0.9,\\n            \\\"x\\\": 0.5,\\n            \\\"xanchor\\\": \\\"center\\\",\\n            \\\"yanchor\\\": \\\"top\\\",\\n        }\\n    )\\n    return fig\\n\\n\\ndef get_type_summary(inp_df: pd.DataFrame) -> Tuple[pd.DataFrame, pd.DataFrame]:\\n    \\\"\\\"\\\"\\n    Get counts of the core card types and of the other keywords in your\\n    pool of drafted cards so far.\\n    \\\"\\\"\\\"\\n    copied = inp_df.copy()\\n    card_types = [\\n        \\\"Land\\\",\\n        \\\"Artifact\\\",\\n        \\\"Creature\\\",\\n        \\\"Enchantment\\\",\\n        \\\"Planeswalker\\\",\\n        \\\"Instant\\\",\\n        \\\"Sorcery\\\",\\n    ]\\n    copied[\\\"keywords\\\"] = copied[\\\"types\\\"].apply(\\n        lambda x: [t.strip() for t in x.split(\\\" \\\") if t.strip() not in (\\\"\\\", \\\"-\\\")]\\n    )\\n    vc = copied[\\\"keywords\\\"].explode().value_counts().reset_index()\\n    main = (\\n        vc[vc[\\\"index\\\"].apply(lambda x: x in card_types)]\\n        .copy()\\n        .rename(columns={\\\"index\\\": \\\"type\\\", \\\"keywords\\\": \\\"count\\\"})\\n    )\\n    other = (\\n        vc[~vc[\\\"index\\\"].apply(lambda x: x in card_types)]\\n        .copy()\\n        .rename(columns={\\\"index\\\": \\\"keyword\\\", \\\"keywords\\\": \\\"count\\\"})\\n    )\\n    return main, other\\n\\n\\ndef get_pool_summary(inp_df: pd.DataFrame):\\n    \\\"\\\"\\\"\\n    Return all of the summary objects:\\n      - color count graph\\n      - type count df\\n      - keyword count df\\n    \\\"\\\"\\\"\\n    color_count_graph = get_color_count_graph(inp_df)\\n    main_type_sum, other_type_sum = get_type_summary(inp_df)\\n    return color_count_graph, main_type_sum, other_type_sum\\n\\n\\n# every N seconds, our Interval fires, and we update most of the app\\n# by parsing the log\\n@app.callback(\\n    [\\n        Output(\\\"live-update-text\\\", \\\"children\\\"),\\n        Output(\\\"current-pick-table-holder\\\", \\\"children\\\"),\\n        Output(\\\"pool-table-holder\\\", \\\"children\\\"),\\n    ],\\n    Input(\\\"interval-component\\\", \\\"n_intervals\\\"),\\n)\\ndef update_metrics(n):\\n    \\\"\\\"\\\"\\n    Update the whole app by parsing the log file\\n    \\\"\\\"\\\"\\n    t0 = time.time()\\n    # create a 17Lands client with the API interaction removed\\n    follower = DashFollower(token, API_ENDPOINT)\\n    # parse your whole log\\n    r = follower.parse_log(logfile, follow=False)\\n    t1 = time.time()\\n    print(f\\\"parsed file in {t1 - t0} seconds\\\")\\n\\n    style = {\\\"padding\\\": \\\"5px\\\", \\\"fontSize\\\": \\\"16px\\\"}\\n    # get the cards available to be picked\\n    picked_df = df.loc[getattr(follower, \\\"pick_options\\\", []), useful_cols].sort_values(\\n        \\\"iwd\\\", ascending=False\\n    )\\n    # get the cards you've already drafted\\n    pool_df = df.loc[getattr(follower, \\\"pool_card_ids\\\", []), useful_cols].sort_values(\\n        \\\"iwd\\\", ascending=False\\n    )\\n    # turn them both into Table objects\\n    pick_table = html.Div(\\n        dash_table.DataTable(\\n            id=\\\"pick_table\\\",\\n            columns=[{\\\"name\\\": i, \\\"id\\\": i} for i in picked_df.columns],\\n            data=picked_df.to_dict(\\\"records\\\"),\\n            style_cell=cell_styling,\\n        ),\\n        style={\\\"width\\\": \\\"80%\\\", \\\"margin\\\": \\\"auto\\\"},\\n    )\\n    pool_table = html.Div(\\n        dash_table.DataTable(\\n            id=\\\"pool_table\\\",\\n            columns=[{\\\"name\\\": i, \\\"id\\\": i} for i in pool_df.columns],\\n            data=pool_df.to_dict(\\\"records\\\"),\\n            style_cell=cell_styling,\\n        )\\n    )\\n    # get the summary statistics for your pool\\n    pool_summary, main_type_sum, other_type_sum = get_pool_summary(pool_df)\\n    main_type_sum = dash_table.DataTable(\\n        id=\\\"main_type_table\\\",\\n        columns=[{\\\"name\\\": i, \\\"id\\\": i} for i in main_type_sum.columns],\\n        data=main_type_sum.to_dict(\\\"records\\\"),\\n        style_cell=cell_styling,\\n    )\\n    other_type_sum = dash_table.DataTable(\\n        id=\\\"other_type_table\\\",\\n        columns=[{\\\"name\\\": i, \\\"id\\\": i} for i in other_type_sum.columns],\\n        data=other_type_sum.to_dict(\\\"records\\\"),\\n        style_cell=cell_styling,\\n    )\\n    # update the container with the summary info\\n    curr_div = dbc.Container(\\n        dbc.Row(\\n            [\\n                dbc.Col(pool_table, width={\\\"size\\\": 8}),\\n                dbc.Col(\\n                    [\\n                        dbc.Row(dcc.Graph(figure=pool_summary)),\\n                        dbc.Row(main_type_sum),\\n                        dbc.Row(html.Div(\\\"--\\\")),\\n                        dbc.Row(other_type_sum),\\n                    ],\\n                    width={\\\"size\\\": 4},\\n                ),\\n            ]\\n        )\\n    )\\n    print(f\\\"rebuilt dash components in {time.time() - t1} seconds\\\")\\n    return [\\n        html.Span(\\n            f\\\"Pack {follower.pack_number}, Pick {follower.pick_number}\\\", style=style\\n        ),\\n        pick_table,\\n        curr_div,\\n    ]\\n\\n\\nif __name__ == \\\"__main__\\\":\\n    app.run_server()\";\n",
       "                var nbb_cells = Jupyter.notebook.get_cells();\n",
       "                for (var i = 0; i < nbb_cells.length; ++i) {\n",
       "                    if (nbb_cells[i].input_prompt_number == nbb_cell_id) {\n",
       "                        if (nbb_cells[i].get_text() == nbb_unformatted_code) {\n",
       "                             nbb_cells[i].set_text(nbb_formatted_code);\n",
       "                        }\n",
       "                        break;\n",
       "                    }\n",
       "                }\n",
       "            }, 500);\n",
       "            "
      ],
      "text/plain": [
       "<IPython.core.display.Javascript object>"
      ]
     },
     "metadata": {},
     "output_type": "display_data"
    }
   ],
   "source": [
    "# number of seconds between refreshes. Needs to be long enough to fully parse your\n",
    "# .log file. If your file is huge, this could be an issue, and you may want to exit\n",
    "# and reload the game\n",
    "N_SECONDS = 3\n",
    "\n",
    "# This is the path to your log file. If you want to test it out, I recommend\n",
    "# saving a copy of one and editing it to have however many events you'd like\n",
    "logfile = os.path.join(\n",
    "    Path.home(), r\"AppData\\LocalLow\\Wizards Of The Coast\\MTGA\\Player-demo.log\"\n",
    ")\n",
    "\n",
    "print(f\"looking for logfile at: {logfile}\")\n",
    "\n",
    "# This may pop up a dialog the first time, I'm not sure.\n",
    "token = get_config()\n",
    "\n",
    "# This controls what displays. you can print(df) to see your column options\n",
    "useful_cols = [\n",
    "    \"name\",\n",
    "    \"color\",\n",
    "    \"types\",\n",
    "    \"rarity\",\n",
    "    \"alsa\",\n",
    "    \"ata\",\n",
    "    \"oh wr\",\n",
    "    \"gd wr\",\n",
    "    \"iwd\",\n",
    "]\n",
    "\n",
    "# allows you to override the CSS of the dash app\n",
    "external_stylesheets = [\"https://codepen.io/chriddyp/pen/bWLwgP.css\", dbc.themes.GRID]\n",
    "\n",
    "# modify this to change the cell styling in the tables\n",
    "cell_styling = {\"textAlign\": \"left\", \"padding\": \"5px\"}\n",
    "\n",
    "# making server explicit so that eventually a Follower object could\n",
    "# run separately and just post relevant events to an event API\n",
    "# flask_app = Flask(__name__)\n",
    "\n",
    "# the core of the app\n",
    "app = dash.Dash(\n",
    "    __name__,\n",
    "    #     server=flask_app,\n",
    "    #     url_base_pathname=\"/dash/\",\n",
    "    external_stylesheets=external_stylesheets,\n",
    ")\n",
    "app.layout = html.Div(\n",
    "    html.Div(\n",
    "        [\n",
    "            dbc.Container(\n",
    "                [\n",
    "                    dbc.Row(html.H4(\"Current Options\")),\n",
    "                    dbc.Row(html.Div(id=\"live-update-text\")),\n",
    "                    dbc.Row(html.Div(id=\"current-pick-table-holder\")),\n",
    "                    dbc.Row(html.H4(\"Pool So Far\")),\n",
    "                    dbc.Row(html.Div(id=\"pool-table-holder\")),\n",
    "                ]\n",
    "            ),\n",
    "            dcc.Interval(\n",
    "                id=\"interval-component\",\n",
    "                interval=N_SECONDS * 1000,  # in milliseconds\n",
    "                n_intervals=0,\n",
    "            ),\n",
    "        ]\n",
    "    )\n",
    ")\n",
    "\n",
    "\n",
    "def get_color_count_graph(inp_df: pd.DataFrame) -> plotly.graph_objects.Figure:\n",
    "    \"\"\"\n",
    "    Count the occurences of each \"color\" symbol in the card data's \"color\" column\n",
    "    in the pool of cards you've drafted so far.\n",
    "    \"\"\"\n",
    "    color_counts = (\n",
    "        inp_df.color.apply(lambda x: list(x) if isinstance(x, str) else [])\n",
    "        .explode()\n",
    "        .value_counts()\n",
    "        .reset_index()\n",
    "        .rename(columns={\"index\": \"Color\", \"color\": \"Count\"})\n",
    "    )\n",
    "    color_hexes = [\"#838383\", \"#26b569\", \"#f85656\", \"#aae0fa\", \"#fef2be\"]\n",
    "    missing_colors = [\n",
    "        c for c in (\"B\", \"G\", \"R\", \"U\", \"W\") if c not in color_counts.Color.values\n",
    "    ]\n",
    "    missing_df = pd.DataFrame(\n",
    "        [[c, 0] for c in missing_colors], columns=[\"Color\", \"Count\"]\n",
    "    )\n",
    "    color_counts.append(missing_df)\n",
    "    color_counts = color_counts.sort_values(\"Color\")\n",
    "\n",
    "    fig = go.Figure(\n",
    "        data=[\n",
    "            go.Bar(name=x[0], x=[x[0]], y=[x[1]], marker_color=color_hexes[i])\n",
    "            for i, x in enumerate(color_counts.values)\n",
    "        ],\n",
    "    )\n",
    "    fig.update_layout(\n",
    "        title={\n",
    "            \"text\": \"Card Color Counts\",\n",
    "            \"y\": 0.9,\n",
    "            \"x\": 0.5,\n",
    "            \"xanchor\": \"center\",\n",
    "            \"yanchor\": \"top\",\n",
    "        }\n",
    "    )\n",
    "    return fig\n",
    "\n",
    "\n",
    "def get_type_summary(inp_df: pd.DataFrame) -> Tuple[pd.DataFrame, pd.DataFrame]:\n",
    "    \"\"\"\n",
    "    Get counts of the core card types and of the other keywords in your\n",
    "    pool of drafted cards so far.\n",
    "    \"\"\"\n",
    "    copied = inp_df.copy()\n",
    "    card_types = [\n",
    "        \"Land\",\n",
    "        \"Artifact\",\n",
    "        \"Creature\",\n",
    "        \"Enchantment\",\n",
    "        \"Planeswalker\",\n",
    "        \"Instant\",\n",
    "        \"Sorcery\",\n",
    "    ]\n",
    "    copied[\"keywords\"] = copied[\"types\"].apply(\n",
    "        lambda x: [t.strip() for t in x.split(\" \") if t.strip() not in (\"\", \"-\")]\n",
    "    )\n",
    "    vc = copied[\"keywords\"].explode().value_counts().reset_index()\n",
    "    main = (\n",
    "        vc[vc[\"index\"].apply(lambda x: x in card_types)]\n",
    "        .copy()\n",
    "        .rename(columns={\"index\": \"type\", \"keywords\": \"count\"})\n",
    "    )\n",
    "    other = (\n",
    "        vc[~vc[\"index\"].apply(lambda x: x in card_types)]\n",
    "        .copy()\n",
    "        .rename(columns={\"index\": \"keyword\", \"keywords\": \"count\"})\n",
    "    )\n",
    "    return main, other\n",
    "\n",
    "\n",
    "def get_pool_summary(inp_df: pd.DataFrame):\n",
    "    \"\"\"\n",
    "    Return all of the summary objects:\n",
    "      - color count graph\n",
    "      - type count df\n",
    "      - keyword count df\n",
    "    \"\"\"\n",
    "    color_count_graph = get_color_count_graph(inp_df)\n",
    "    main_type_sum, other_type_sum = get_type_summary(inp_df)\n",
    "    return color_count_graph, main_type_sum, other_type_sum\n",
    "\n",
    "\n",
    "# every N seconds, our Interval fires, and we update most of the app\n",
    "# by parsing the log\n",
    "@app.callback(\n",
    "    [\n",
    "        Output(\"live-update-text\", \"children\"),\n",
    "        Output(\"current-pick-table-holder\", \"children\"),\n",
    "        Output(\"pool-table-holder\", \"children\"),\n",
    "    ],\n",
    "    Input(\"interval-component\", \"n_intervals\"),\n",
    ")\n",
    "def update_metrics(n):\n",
    "    \"\"\"\n",
    "    Update the whole app by parsing the log file\n",
    "    \"\"\"\n",
    "    t0 = time.time()\n",
    "    # create a 17Lands client with the API interaction removed\n",
    "    follower = DashFollower(token, API_ENDPOINT)\n",
    "    # parse your whole log\n",
    "    r = follower.parse_log(logfile, follow=False)\n",
    "    t1 = time.time()\n",
    "    print(f\"parsed file in {t1 - t0} seconds\")\n",
    "\n",
    "    style = {\"padding\": \"5px\", \"fontSize\": \"16px\"}\n",
    "    # get the cards available to be picked\n",
    "    picked_df = df.loc[getattr(follower, \"pick_options\", []), useful_cols].sort_values(\n",
    "        \"iwd\", ascending=False\n",
    "    )\n",
    "    # get the cards you've already drafted\n",
    "    pool_df = df.loc[getattr(follower, \"pool_card_ids\", []), useful_cols].sort_values(\n",
    "        \"iwd\", ascending=False\n",
    "    )\n",
    "    # turn them both into Table objects\n",
    "    pick_table = html.Div(\n",
    "        dash_table.DataTable(\n",
    "            id=\"pick_table\",\n",
    "            columns=[{\"name\": i, \"id\": i} for i in picked_df.columns],\n",
    "            data=picked_df.to_dict(\"records\"),\n",
    "            style_cell=cell_styling,\n",
    "        ),\n",
    "        style={\"width\": \"80%\", \"margin\": \"auto\"},\n",
    "    )\n",
    "    pool_table = html.Div(\n",
    "        dash_table.DataTable(\n",
    "            id=\"pool_table\",\n",
    "            columns=[{\"name\": i, \"id\": i} for i in pool_df.columns],\n",
    "            data=pool_df.to_dict(\"records\"),\n",
    "            style_cell=cell_styling,\n",
    "        )\n",
    "    )\n",
    "    # get the summary statistics for your pool\n",
    "    pool_summary, main_type_sum, other_type_sum = get_pool_summary(pool_df)\n",
    "    main_type_sum = dash_table.DataTable(\n",
    "        id=\"main_type_table\",\n",
    "        columns=[{\"name\": i, \"id\": i} for i in main_type_sum.columns],\n",
    "        data=main_type_sum.to_dict(\"records\"),\n",
    "        style_cell=cell_styling,\n",
    "    )\n",
    "    other_type_sum = dash_table.DataTable(\n",
    "        id=\"other_type_table\",\n",
    "        columns=[{\"name\": i, \"id\": i} for i in other_type_sum.columns],\n",
    "        data=other_type_sum.to_dict(\"records\"),\n",
    "        style_cell=cell_styling,\n",
    "    )\n",
    "    # update the container with the summary info\n",
    "    curr_div = dbc.Container(\n",
    "        dbc.Row(\n",
    "            [\n",
    "                dbc.Col(pool_table, width={\"size\": 8}),\n",
    "                dbc.Col(\n",
    "                    [\n",
    "                        dbc.Row(dcc.Graph(figure=pool_summary)),\n",
    "                        dbc.Row(main_type_sum),\n",
    "                        dbc.Row(html.Div(\"--\")),\n",
    "                        dbc.Row(other_type_sum),\n",
    "                    ],\n",
    "                    width={\"size\": 4},\n",
    "                ),\n",
    "            ]\n",
    "        )\n",
    "    )\n",
    "    print(f\"rebuilt dash components in {time.time() - t1} seconds\")\n",
    "    return [\n",
    "        html.Span(\n",
    "            f\"Pack {follower.pack_number}, Pick {follower.pick_number}\", style=style\n",
    "        ),\n",
    "        pick_table,\n",
    "        curr_div,\n",
    "    ]\n",
    "\n",
    "\n",
    "if __name__ == \"__main__\":\n",
    "    app.run_server()"
   ]
  },
  {
   "cell_type": "code",
   "execution_count": null,
   "id": "2f2bb9d9",
   "metadata": {},
   "outputs": [],
   "source": []
  },
  {
   "cell_type": "code",
   "execution_count": null,
   "id": "d51e26b1",
   "metadata": {},
   "outputs": [],
   "source": []
  },
  {
   "cell_type": "code",
   "execution_count": null,
   "id": "8405cd4c",
   "metadata": {},
   "outputs": [],
   "source": []
  },
  {
   "cell_type": "code",
   "execution_count": null,
   "id": "13f0b94b",
   "metadata": {},
   "outputs": [],
   "source": []
  },
  {
   "cell_type": "code",
   "execution_count": null,
   "id": "70921988",
   "metadata": {
    "scrolled": true
   },
   "outputs": [],
   "source": [
    "os.path.join(Path.home() ,    r\"AppData\\LocalLow\\Wizards Of The Coast\\MTGA\\Player-demo.log\")\n"
   ]
  },
  {
   "cell_type": "code",
   "execution_count": null,
   "id": "23dff028",
   "metadata": {},
   "outputs": [],
   "source": [
    "str(Path.home())"
   ]
  },
  {
   "cell_type": "code",
   "execution_count": null,
   "id": "30c03ea4",
   "metadata": {},
   "outputs": [],
   "source": []
  },
  {
   "cell_type": "code",
   "execution_count": null,
   "id": "fedc7774",
   "metadata": {},
   "outputs": [],
   "source": []
  }
 ],
 "metadata": {
  "kernelspec": {
   "display_name": "Python 3 (ipykernel)",
   "language": "python",
   "name": "python3"
  },
  "language_info": {
   "codemirror_mode": {
    "name": "ipython",
    "version": 3
   },
   "file_extension": ".py",
   "mimetype": "text/x-python",
   "name": "python",
   "nbconvert_exporter": "python",
   "pygments_lexer": "ipython3",
   "version": "3.8.5"
  }
 },
 "nbformat": 4,
 "nbformat_minor": 5
}
